{
 "cells": [
  {
   "cell_type": "markdown",
   "metadata": {},
   "source": [
    "# R Configuration in Rstudio and Anaconda\n",
    "---\n",
    "*Lutao DAI, 07/05/2019*"
   ]
  },
  {
   "cell_type": "markdown",
   "metadata": {},
   "source": [
    "## Setting up R Environment\n",
    "\n",
    "### Installing R and RStudio\n",
    "The most conventional way of using R in your computer is through RStudio. In order for that to work, you need to install both [R](https://www.r-project.org/) and [RStudio](https://www.rstudio.com/products/rstudio/).\n",
    "1. Install R from the official webpage of R. Download R packages based on your operation system ([Windows](https://cran.r-project.org/bin/windows/), [MacOS](https://cran.r-project.org/bin/windows/)) and follow the procedure to complete the installation. \n",
    "1. Download and install [Rstudio Desktop](https://www.rstudio.com/products/rstudio/download/). Choose the software based on your operation system, and follow the procedure to complete the installation.\n",
    "\n",
    "### Installing Anaconda and Setting up an R Kernel\n",
    "If you are (or expect yourself to become) a heavy Python coder, or if you want to use handy integrated functions of [Jupyter Notebook](https://jupyter.org/), a tool already widely adopted by data scientists, researchers, and analysts, you can create a virtual R environment in `conda`, and use jupyter notebook to work with the R environment.\n",
    "1. Install [Anaconda](https://www.anaconda.com/distribution/). Choose a distribution based on your operation system. You are recommended to install Python 3.6 or later version. You can follow the default path configuration, or choose a new root directory for anaconda. Please refer to [Anaconda Installation Documentation](https://docs.anaconda.com/anaconda/install/) for detailed instructions. To verify the installation, open Anaconda Prompt, or Terminal on MacOS or Linux, and type `which python`, you should see the word anaconda appear in the returned path. Alternatively, you can also use [Anaconda Navigator](https://docs.anaconda.com/anaconda/install/verify-install/) to verity the installation.\n",
    "1. Once you have anaconda installed, create a new R environment by `conda create -n r-env -c r r-essentials`. This installs `r-essentials` in a new environment called `r-env`. `r-essentials` is a bundle created by the Anaconda Team and includes over 80 of the most used R packages for data science, including `dplyr`, `shiny`, `ggplot2`, `tidyr`, `caret` and `nnet`.\n",
    "1. Lauch jupyter notebook via Anaconda Navigator or in terminal by typing the command `jupyter notebook`. Choose the `R` kernel from the `new` dropdown, and you are all set."
   ]
  },
  {
   "cell_type": "markdown",
   "metadata": {},
   "source": [
    "## Install Additional R Libraries\n",
    "With installing `pacman` and `reticulate` as examples. `pacman` is a library for fast libraries importing; `reticulate` allows configuring Python environment in R.\n",
    "### In RStudio\n",
    "```R\n",
    "    install.packages(\"pacman\")\n",
    "    install.packages(\"reticulate\")\n",
    "```\n",
    "### In Anaconda\n",
    "You can install libraries in jupyter notebook cells directly for most libraries\n",
    "```R\n",
    "    install.packages(\"pacman\")\n",
    "```\n",
    "Occassionally, this method fails. In this case, search the installation command online and install via `conda`.\n",
    "```shell\n",
    "    conda install -c r r-reticulate \n",
    "```"
   ]
  },
  {
   "cell_type": "markdown",
   "metadata": {},
   "source": [
    "### Verify installation of `pacman` and  `reticulate`"
   ]
  },
  {
   "cell_type": "code",
   "execution_count": 2,
   "metadata": {},
   "outputs": [],
   "source": [
    "require(pacman)\n",
    "pacman::p_load(reticulate, tidyverse, ggplot2)\n",
    "use_python(\"/anaconda3/bin/python\")"
   ]
  },
  {
   "cell_type": "markdown",
   "metadata": {},
   "source": [
    "### References\n",
    "* [Jupyter and conda for R](https://anaconda.org/chdoig/jupyter-and-conda-for-r/notebook)"
   ]
  }
 ],
 "metadata": {
  "kernelspec": {
   "display_name": "R",
   "language": "R",
   "name": "ir"
  },
  "language_info": {
   "codemirror_mode": "r",
   "file_extension": ".r",
   "mimetype": "text/x-r-source",
   "name": "R",
   "pygments_lexer": "r",
   "version": "3.6.0"
  }
 },
 "nbformat": 4,
 "nbformat_minor": 2
}
